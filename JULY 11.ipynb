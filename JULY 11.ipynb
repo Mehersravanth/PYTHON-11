{
 "cells": [
  {
   "cell_type": "markdown",
   "metadata": {},
   "source": [
    "# STANDARD LIBRARIES\n",
    "* File I/O\n",
    "* Regular Expressions\n",
    "* Datetime\n",
    "* Math (numerical and mathematical)"
   ]
  },
  {
   "cell_type": "markdown",
   "metadata": {},
   "source": [
    "# FILE HANDLING IN PYTHON\n",
    "* FILE :- Document containing information resides on the permanent storage\n",
    "* Different types of files - txt,doc,pdf,csv and etc.\n",
    "* INPUT - Keyboard\n",
    "* OUTPUT - File\n",
    "# MODES OF THE FILE I/O\n",
    "* 'w' -- This mode is used to file writing\n",
    "      -- If the file is not present first it creates the file and write so me data to it.\n",
    "      -- If the file is already present then it will rewrite the previous content."
   ]
  },
  {
   "cell_type": "code",
   "execution_count": 3,
   "metadata": {},
   "outputs": [
    {
     "name": "stdout",
     "output_type": "stream",
     "text": [
      "file is created and data has written\n"
     ]
    }
   ],
   "source": [
    "# function to create a file and write to the file\n",
    "def createfile(filename):\n",
    "    f = open(filename,'w')\n",
    "    for i in range(10):\n",
    "        f.write('this is %d line ' % i)\n",
    "    print(\"file is created and data has written\")\n",
    "    return\n",
    "createfile('file1.txt')"
   ]
  },
  {
   "cell_type": "code",
   "execution_count": 4,
   "metadata": {},
   "outputs": [
    {
     "name": "stdout",
     "output_type": "stream",
     "text": [
      " Volume in drive C has no label.\n",
      " Volume Serial Number is 440F-185D\n",
      "\n",
      " Directory of C:\\Users\\sys46\n",
      "\n",
      "11-07-2019  15:01    <DIR>          .\n",
      "11-07-2019  15:01    <DIR>          ..\n",
      "05-07-2019  16:40    <DIR>          .anaconda\n",
      "04-07-2019  18:00             3,463 .bash_history\n",
      "05-07-2019  16:43    <DIR>          .conda\n",
      "05-07-2019  16:43                43 .condarc\n",
      "11-07-2019  14:40    <DIR>          .ipynb_checkpoints\n",
      "05-07-2019  16:43    <DIR>          .ipython\n",
      "05-07-2019  17:06    <DIR>          .jupyter\n",
      "01-07-2019  14:53    <DIR>          3D Objects\n",
      "05-07-2019  20:00             6,807 AFTERNOON JULY 5.ipynb\n",
      "05-07-2019  16:32    <DIR>          Anaconda3\n",
      "01-07-2019  14:53    <DIR>          Contacts\n",
      "06-07-2019  23:10    <DIR>          Desktop\n",
      "08-07-2019  22:01    <DIR>          Documents\n",
      "10-07-2019  22:43    <DIR>          Downloads\n",
      "01-07-2019  14:53    <DIR>          Favorites\n",
      "11-07-2019  15:01               150 file1.txt\n",
      "11-07-2019  15:01             1,593 JULY 11.ipynb\n",
      "05-07-2019  17:15                72 JULY 5.ipynb\n",
      "10-07-2019  21:29            29,781 JULY 8-9-10.ipynb\n",
      "06-07-2019  18:13             9,126 JULY-6.ipynb\n",
      "06-07-2019  14:43               669 JULY-6-2019.ipynb\n",
      "01-07-2019  14:53    <DIR>          Links\n",
      "01-07-2019  14:53    <DIR>          Music\n",
      "09-07-2019  14:47    <DIR>          OneDrive\n",
      "10-07-2019  14:40    <DIR>          Pictures\n",
      "01-07-2019  14:53    <DIR>          Saved Games\n",
      "01-07-2019  14:53    <DIR>          Searches\n",
      "05-07-2019  16:43                72 Untitled.ipynb\n",
      "05-07-2019  17:10               948 Untitled1.ipynb\n",
      "08-07-2019  21:23            11,061 Untitled10.ipynb\n",
      "05-07-2019  17:28             4,042 Untitled2.ipynb\n",
      "05-07-2019  17:29                72 Untitled3.ipynb\n",
      "05-07-2019  17:33             2,182 Untitled4.ipynb\n",
      "05-07-2019  17:34                72 Untitled5.ipynb\n",
      "05-07-2019  17:46             1,526 Untitled6.ipynb\n",
      "05-07-2019  20:13             1,680 Untitled7.ipynb\n",
      "05-07-2019  21:20             1,841 Untitled8.ipynb\n",
      "05-07-2019  22:33             1,334 Untitled9.ipynb\n",
      "03-07-2019  14:54    <DIR>          Videos\n",
      "              20 File(s)         76,534 bytes\n",
      "              21 Dir(s)  387,044,257,792 bytes free\n"
     ]
    }
   ],
   "source": [
    "ls"
   ]
  },
  {
   "cell_type": "code",
   "execution_count": 10,
   "metadata": {},
   "outputs": [
    {
     "name": "stdout",
     "output_type": "stream",
     "text": [
      "file is created and data has written\n"
     ]
    }
   ],
   "source": [
    "def createfile(filename):\n",
    "    f = open(filename,'w')\n",
    "    f.write('testing....\\n')\n",
    "    print(\"file is created and data has written\")\n",
    "    return\n",
    "createfile('file1.txt')"
   ]
  },
  {
   "cell_type": "code",
   "execution_count": 11,
   "metadata": {},
   "outputs": [
    {
     "name": "stdout",
     "output_type": "stream",
     "text": [
      "this is 0 line\n",
      "\n",
      "this is 1 line\n",
      "\n",
      "this is 2 line\n",
      "\n",
      "this is 3 line\n",
      "\n",
      "this is 4 line\n",
      "\n",
      "this is 5 line\n",
      "\n",
      "this is 6 line\n",
      "\n",
      "this is 7 line\n",
      "\n",
      "this is 8 line\n",
      "\n",
      "this is 9 line\n",
      "\n",
      "file created and successfully data written\n"
     ]
    }
   ],
   "source": [
    "def appenddata(filename):\n",
    "    f = open(filename,'a')\n",
    "    for i in range(10):\n",
    "        print(\"this is %d line\\n\" % i)\n",
    "    print(\"file created and successfully data written\")\n",
    "    return\n",
    "appenddata('file2.txt')"
   ]
  },
  {
   "cell_type": "code",
   "execution_count": 12,
   "metadata": {},
   "outputs": [
    {
     "name": "stdout",
     "output_type": "stream",
     "text": [
      "file created and successfully data written\n"
     ]
    }
   ],
   "source": [
    "def appenddata(filename):\n",
    "    f = open(filename,'a')\n",
    "    for i in range(10):\n",
    "        f.write(\"this is %d line\\n\" % i)\n",
    "    print(\"file created and successfully data written\")\n",
    "    return\n",
    "appenddata('file2.txt')"
   ]
  },
  {
   "cell_type": "code",
   "execution_count": 13,
   "metadata": {},
   "outputs": [
    {
     "name": "stdout",
     "output_type": "stream",
     "text": [
      "file created and successfully data written\n"
     ]
    }
   ],
   "source": [
    "def appenddata(filename):\n",
    "    f = open(filename,'a')\n",
    "    f.write(\"new line 1\\n\")\n",
    "    f.write(\"new line 2\\n\")\n",
    "    print(\"file created and successfully data written\")\n",
    "    return\n",
    "appenddata('file2.txt')"
   ]
  },
  {
   "cell_type": "code",
   "execution_count": 14,
   "metadata": {},
   "outputs": [
    {
     "name": "stdout",
     "output_type": "stream",
     "text": [
      "this is 0 line\n",
      "this is 1 line\n",
      "this is 2 line\n",
      "this is 3 line\n",
      "this is 4 line\n",
      "this is 5 line\n",
      "this is 6 line\n",
      "this is 7 line\n",
      "this is 8 line\n",
      "this is 9 line\n",
      "new line 1\n",
      "new line 2\n",
      "\n"
     ]
    }
   ],
   "source": [
    "# function to read the file \n",
    "def readfiledata(filename):\n",
    "    f = open(filename,'r')\n",
    "    if f.mode == 'r':\n",
    "        x = f.read()\n",
    "        print(x)\n",
    "    f.close()    \n",
    "    return\n",
    "readfiledata('file2.txt')"
   ]
  },
  {
   "cell_type": "code",
   "execution_count": 8,
   "metadata": {},
   "outputs": [
    {
     "name": "stdout",
     "output_type": "stream",
     "text": [
      "enter the file namemeher.txt\n",
      "enter the mode of the filea\n",
      "the data successfully written\n"
     ]
    }
   ],
   "source": [
    "# function to read the file\n",
    "def fileoperations(filename,mode):\n",
    "    with open(filename,mode) as f:\n",
    "        if f.mode == 'r':\n",
    "            data = f.read()\n",
    "            print(data)\n",
    "        elif f.mode == 'a':            \n",
    "            f.write('data to the file')\n",
    "            print('the data successfully written')\n",
    "        f.close()\n",
    "        return\n",
    "filename = input('enter the file name')\n",
    "mode = input('enter the mode of the file')\n",
    "fileoperations(filename,mode)"
   ]
  },
  {
   "cell_type": "code",
   "execution_count": 10,
   "metadata": {},
   "outputs": [
    {
     "name": "stdout",
     "output_type": "stream",
     "text": [
      "enter the file name: file2.txt\n",
      "enter the word: this\n"
     ]
    },
    {
     "data": {
      "text/plain": [
       "10"
      ]
     },
     "execution_count": 10,
     "metadata": {},
     "output_type": "execute_result"
    }
   ],
   "source": [
    "# Data analysis\n",
    "# word count program\n",
    "def wordcount(filename,word):\n",
    "    with open(filename,'r') as f:\n",
    "        if f.mode == 'r':\n",
    "            x = f.read()\n",
    "            li = x.split() # it splits the string with whitespace\n",
    "    cnt = li.count(word)\n",
    "    return cnt\n",
    "filename = input('enter the file name: ')\n",
    "word = input('enter the word: ')\n",
    "wordcount(filename,word)"
   ]
  },
  {
   "cell_type": "code",
   "execution_count": 3,
   "metadata": {},
   "outputs": [
    {
     "name": "stdout",
     "output_type": "stream",
     "text": [
      "enter the filename: file2.txt\n"
     ]
    },
    {
     "data": {
      "text/plain": [
       "172"
      ]
     },
     "execution_count": 3,
     "metadata": {},
     "output_type": "execute_result"
    }
   ],
   "source": [
    "# character count from the given file\n",
    "def charcount(filename):\n",
    "    with open(filename,'r') as f:\n",
    "        if f.mode == 'r':\n",
    "            x = f.read()\n",
    "            li = list(x)            \n",
    "    return len(li)\n",
    "filename = input('enter the filename: ')\n",
    "charcount(filename)\n"
   ]
  },
  {
   "cell_type": "code",
   "execution_count": 8,
   "metadata": {},
   "outputs": [
    {
     "name": "stdout",
     "output_type": "stream",
     "text": [
      "enter the filename: file2.txt\n"
     ]
    },
    {
     "data": {
      "text/plain": [
       "13"
      ]
     },
     "execution_count": 8,
     "metadata": {},
     "output_type": "execute_result"
    }
   ],
   "source": [
    "# function to find the number of lines in input line\n",
    "# input -- filename(file2.txt)\n",
    "# ouput -- no.of lines(13)\n",
    "def countoflines(filename):\n",
    "    with open(filename,'r') as f:\n",
    "        if f.mode == 'r':\n",
    "            x = f.read()\n",
    "            li = x.split(\"\\n\")\n",
    "    return len(li)\n",
    "filename = input('enter the filename: ')\n",
    "countoflines(filename)"
   ]
  },
  {
   "cell_type": "code",
   "execution_count": 15,
   "metadata": {},
   "outputs": [
    {
     "name": "stdout",
     "output_type": "stream",
     "text": [
      "enter the filename: file2.txt\n"
     ]
    },
    {
     "data": {
      "text/plain": [
       "'Upper case = 0 , Lower case = 114'"
      ]
     },
     "execution_count": 15,
     "metadata": {},
     "output_type": "execute_result"
    }
   ],
   "source": [
    "# function to print the upper and lower case character\n",
    "def casecount(filename):\n",
    "    cntUpper = 0\n",
    "    cntLower = 0\n",
    "    with open(filename,'r') as f:\n",
    "        if f.mode == 'r':\n",
    "            x = f.read()\n",
    "            li = list(x)\n",
    "    for i in li:\n",
    "        if i.isupper():\n",
    "            cntUpper += 1 # cntUpper = cntUpper + 1\n",
    "        elif i.islower():\n",
    "            cntLower += 1 # cntLower = cntLower + 1\n",
    "    output = 'Upper case = {0} , Lower case = {1}'.format(cntUpper, cntLower)\n",
    "    return output\n",
    "filename = input('enter the filename: ')\n",
    "casecount(filename)"
   ]
  },
  {
   "cell_type": "markdown",
   "metadata": {},
   "source": [
    "# math, random,os\n",
    "* os package it contains the certain methods which works with OS\n"
   ]
  },
  {
   "cell_type": "code",
   "execution_count": 16,
   "metadata": {},
   "outputs": [
    {
     "name": "stdout",
     "output_type": "stream",
     "text": [
      "C:\\Users\\sys46\\desktop\\pythonprog\\git\n"
     ]
    }
   ],
   "source": [
    "cd desktop/pythonprog/git"
   ]
  },
  {
   "cell_type": "code",
   "execution_count": 17,
   "metadata": {},
   "outputs": [
    {
     "name": "stdout",
     "output_type": "stream",
     "text": [
      " Volume in drive C has no label.\n",
      " Volume Serial Number is 440F-185D\n",
      "\n",
      " Directory of C:\\Users\\sys46\\desktop\\pythonprog\\git\n",
      "\n",
      "05-07-2019  15:19    <DIR>          .\n",
      "05-07-2019  15:19    <DIR>          ..\n",
      "05-07-2019  15:35                78 data.txt\n",
      "05-07-2019  15:19    <DIR>          gitam-python\n",
      "               1 File(s)             78 bytes\n",
      "               3 Dir(s)  386,998,595,584 bytes free\n"
     ]
    }
   ],
   "source": [
    "ls"
   ]
  },
  {
   "cell_type": "code",
   "execution_count": 19,
   "metadata": {},
   "outputs": [
    {
     "name": "stdout",
     "output_type": "stream",
     "text": [
      "C:\\Users\\sys46\\desktop\\pythonprog\n"
     ]
    }
   ],
   "source": [
    "cd .."
   ]
  },
  {
   "cell_type": "code",
   "execution_count": 21,
   "metadata": {},
   "outputs": [
    {
     "data": {
      "text/plain": [
       "['.git', 'data.txt', 'gitam-python']"
      ]
     },
     "execution_count": 21,
     "metadata": {},
     "output_type": "execute_result"
    }
   ],
   "source": [
    "import os\n",
    "os.listdir('Git/')\n"
   ]
  },
  {
   "cell_type": "markdown",
   "metadata": {},
   "source": [
    "# Older version Python -- os.listdir()\n",
    "# Newer version Python -- os.scandir() and pathlib.Path()\n"
   ]
  },
  {
   "cell_type": "code",
   "execution_count": 22,
   "metadata": {},
   "outputs": [
    {
     "name": "stdout",
     "output_type": "stream",
     "text": [
      "<DirEntry '.git'>\n",
      "<DirEntry 'data.txt'>\n",
      "<DirEntry 'gitam-python'>\n"
     ]
    }
   ],
   "source": [
    "li = os.scandir('Git/')\n",
    "for i in li:\n",
    "    print(i)"
   ]
  },
  {
   "cell_type": "code",
   "execution_count": 23,
   "metadata": {},
   "outputs": [
    {
     "name": "stdout",
     "output_type": "stream",
     "text": [
      ".git\n",
      "data.txt\n",
      "gitam-python\n"
     ]
    }
   ],
   "source": [
    "from pathlib import Path\n",
    "li = Path('Git/')\n",
    "for i in li.iterdir():\n",
    "    print(i.name)"
   ]
  },
  {
   "cell_type": "markdown",
   "metadata": {},
   "source": [
    "# LISTING ALL FILES IN A DIRECTORY"
   ]
  },
  {
   "cell_type": "code",
   "execution_count": 56,
   "metadata": {},
   "outputs": [
    {
     "name": "stdout",
     "output_type": "stream",
     "text": [
      "data.txt\n"
     ]
    }
   ],
   "source": [
    "import os\n",
    "dirpath = \"git/\"\n",
    "for i in os.listdir(dirpath):\n",
    "    if os.path.isfile(os.path.join(dirpath,i)):\n",
    "        print(i)"
   ]
  },
  {
   "cell_type": "code",
   "execution_count": 38,
   "metadata": {},
   "outputs": [
    {
     "data": {
      "text/plain": [
       "'C:\\\\Users\\\\sys46\\\\desktop\\\\pythonprog'"
      ]
     },
     "execution_count": 38,
     "metadata": {},
     "output_type": "execute_result"
    }
   ],
   "source": [
    "pwd"
   ]
  },
  {
   "cell_type": "code",
   "execution_count": 57,
   "metadata": {},
   "outputs": [
    {
     "name": "stdout",
     "output_type": "stream",
     "text": [
      "data.txt\n"
     ]
    }
   ],
   "source": [
    "dirPath = 'git/'\n",
    "with os.scandir(dirPath) as f:\n",
    "    for i in f:\n",
    "        if i.is_file():\n",
    "            print(i.name)"
   ]
  },
  {
   "cell_type": "markdown",
   "metadata": {},
   "source": [
    "# LISTING SUBDIRECTORIES\n",
    "\n",
    "\n"
   ]
  },
  {
   "cell_type": "code",
   "execution_count": 51,
   "metadata": {},
   "outputs": [
    {
     "name": "stdout",
     "output_type": "stream",
     "text": [
      " Volume in drive C has no label.\n",
      " Volume Serial Number is 440F-185D\n",
      "\n",
      " Directory of C:\\Users\\sys46\\desktop\\pythonprog\n",
      "\n",
      "11-07-2019  20:17    <DIR>          .\n",
      "11-07-2019  20:17    <DIR>          ..\n",
      "05-07-2019  15:19    <DIR>          git\n",
      "11-07-2019  20:14    <DIR>          SingleDirectory\n",
      "11-07-2019  20:17    <DIR>          TestFolder\n",
      "               0 File(s)              0 bytes\n",
      "               5 Dir(s)  386,958,688,256 bytes free\n"
     ]
    }
   ],
   "source": [
    "ls\n"
   ]
  },
  {
   "cell_type": "code",
   "execution_count": 52,
   "metadata": {},
   "outputs": [
    {
     "name": "stdout",
     "output_type": "stream",
     "text": [
      "C:\\Users\\sys46\\desktop\\pythonprog\\git\n"
     ]
    }
   ],
   "source": [
    "cd git"
   ]
  },
  {
   "cell_type": "code",
   "execution_count": 54,
   "metadata": {},
   "outputs": [
    {
     "name": "stdout",
     "output_type": "stream",
     "text": [
      "C:\\Users\\sys46\\desktop\\pythonprog\n"
     ]
    }
   ],
   "source": [
    "cd .."
   ]
  },
  {
   "cell_type": "code",
   "execution_count": 58,
   "metadata": {},
   "outputs": [
    {
     "name": "stdout",
     "output_type": "stream",
     "text": [
      ".git\n",
      "gitam-python\n"
     ]
    }
   ],
   "source": [
    "import os\n",
    "dirPath = 'git/'\n",
    "for i in os.listdir(dirPath):\n",
    "    if os.path.isdir(os.path.join(dirPath,i)):\n",
    "        print(i)"
   ]
  },
  {
   "cell_type": "code",
   "execution_count": 49,
   "metadata": {},
   "outputs": [
    {
     "name": "stdout",
     "output_type": "stream",
     "text": [
      ".git\n",
      "gitam-python\n"
     ]
    }
   ],
   "source": [
    "from pathlib import Path\n",
    "dirPath = Path('git/')\n",
    "for i in dirPath.iterdir():\n",
    "    if i.is_dir():\n",
    "        print(i.name)"
   ]
  },
  {
   "cell_type": "markdown",
   "metadata": {},
   "source": [
    "# CREATING A SINGLE DIRECTORY"
   ]
  },
  {
   "cell_type": "code",
   "execution_count": 43,
   "metadata": {},
   "outputs": [],
   "source": [
    "os.mkdir('SingleDirectory')"
   ]
  },
  {
   "cell_type": "code",
   "execution_count": 44,
   "metadata": {},
   "outputs": [
    {
     "name": "stdout",
     "output_type": "stream",
     "text": [
      " Volume in drive C has no label.\n",
      " Volume Serial Number is 440F-185D\n",
      "\n",
      " Directory of C:\\Users\\sys46\\desktop\\pythonprog\n",
      "\n",
      "11-07-2019  20:14    <DIR>          .\n",
      "11-07-2019  20:14    <DIR>          ..\n",
      "05-07-2019  15:19    <DIR>          git\n",
      "11-07-2019  20:14    <DIR>          SingleDirectory\n",
      "               0 File(s)              0 bytes\n",
      "               4 Dir(s)  385,702,096,896 bytes free\n"
     ]
    }
   ],
   "source": [
    "ls"
   ]
  },
  {
   "cell_type": "code",
   "execution_count": 45,
   "metadata": {},
   "outputs": [],
   "source": [
    "import pathlib\n",
    "p = pathlib.Path('TestFolder')\n",
    "p.mkdir()"
   ]
  },
  {
   "cell_type": "code",
   "execution_count": 46,
   "metadata": {},
   "outputs": [
    {
     "name": "stdout",
     "output_type": "stream",
     "text": [
      " Volume in drive C has no label.\n",
      " Volume Serial Number is 440F-185D\n",
      "\n",
      " Directory of C:\\Users\\sys46\\desktop\\pythonprog\n",
      "\n",
      "11-07-2019  20:17    <DIR>          .\n",
      "11-07-2019  20:17    <DIR>          ..\n",
      "05-07-2019  15:19    <DIR>          git\n",
      "11-07-2019  20:14    <DIR>          SingleDirectory\n",
      "11-07-2019  20:17    <DIR>          TestFolder\n",
      "               0 File(s)              0 bytes\n",
      "               5 Dir(s)  386,597,335,040 bytes free\n"
     ]
    }
   ],
   "source": [
    "ls"
   ]
  },
  {
   "cell_type": "code",
   "execution_count": 48,
   "metadata": {},
   "outputs": [
    {
     "name": "stdout",
     "output_type": "stream",
     "text": [
      " Volume in drive C has no label.\n",
      " Volume Serial Number is 440F-185D\n",
      "\n",
      " Directory of C:\\Users\\sys46\\desktop\\pythonprog\n",
      "\n",
      "11-07-2019  20:17    <DIR>          .\n",
      "11-07-2019  20:17    <DIR>          ..\n",
      "05-07-2019  15:19    <DIR>          git\n",
      "11-07-2019  20:14    <DIR>          SingleDirectory\n",
      "11-07-2019  20:17    <DIR>          TestFolder\n",
      "               0 File(s)              0 bytes\n",
      "               5 Dir(s)  386,959,245,312 bytes free\n"
     ]
    }
   ],
   "source": [
    "ls\n"
   ]
  },
  {
   "cell_type": "markdown",
   "metadata": {},
   "source": [
    "# Deleting "
   ]
  },
  {
   "cell_type": "code",
   "execution_count": 70,
   "metadata": {},
   "outputs": [
    {
     "name": "stdout",
     "output_type": "stream",
     "text": [
      "C:\\Users\\sys46\n"
     ]
    }
   ],
   "source": [
    "cd sys46"
   ]
  },
  {
   "cell_type": "code",
   "execution_count": 71,
   "metadata": {},
   "outputs": [
    {
     "name": "stdout",
     "output_type": "stream",
     "text": [
      "C:\\Users\\sys46\\desktop\n"
     ]
    }
   ],
   "source": [
    "cd desktop"
   ]
  },
  {
   "cell_type": "code",
   "execution_count": 72,
   "metadata": {},
   "outputs": [
    {
     "name": "stdout",
     "output_type": "stream",
     "text": [
      "C:\\Users\\sys46\\desktop\\pythonprog\n"
     ]
    }
   ],
   "source": [
    "cd pythonprog"
   ]
  },
  {
   "cell_type": "code",
   "execution_count": 73,
   "metadata": {},
   "outputs": [
    {
     "name": "stdout",
     "output_type": "stream",
     "text": [
      "C:\\Users\\sys46\\desktop\\pythonprog\\git\n"
     ]
    }
   ],
   "source": [
    "cd git"
   ]
  },
  {
   "cell_type": "code",
   "execution_count": 78,
   "metadata": {},
   "outputs": [
    {
     "data": {
      "text/plain": [
       "'C:\\\\Users\\\\sys46\\\\desktop\\\\pythonprog\\\\git'"
      ]
     },
     "execution_count": 78,
     "metadata": {},
     "output_type": "execute_result"
    }
   ],
   "source": [
    "pwd\n"
   ]
  },
  {
   "cell_type": "code",
   "execution_count": 79,
   "metadata": {},
   "outputs": [
    {
     "name": "stdout",
     "output_type": "stream",
     "text": [
      "C:\\Users\\sys46\\desktop\\pythonprog\n"
     ]
    }
   ],
   "source": [
    "cd .."
   ]
  },
  {
   "cell_type": "code",
   "execution_count": 80,
   "metadata": {},
   "outputs": [
    {
     "name": "stdout",
     "output_type": "stream",
     "text": [
      ".git\n",
      "gitam-python\n"
     ]
    }
   ],
   "source": [
    "from pathlib import Path\n",
    "dirPath = Path('git/')\n",
    "for i in dirPath.iterdir():\n",
    "    if i.is_dir():\n",
    "        print(i.name)"
   ]
  },
  {
   "cell_type": "markdown",
   "metadata": {},
   "source": [
    "# REGULAR EXPRESSIONS\n",
    "* Used to specific pattern matching\n",
    "* symbolic notations of pattern\n",
    "     - Patterns(RE) represents the set of values\n",
    "     "
   ]
  },
  {
   "cell_type": "code",
   "execution_count": null,
   "metadata": {},
   "outputs": [],
   "source": []
  }
 ],
 "metadata": {
  "kernelspec": {
   "display_name": "Python 3",
   "language": "python",
   "name": "python3"
  },
  "language_info": {
   "codemirror_mode": {
    "name": "ipython",
    "version": 3
   },
   "file_extension": ".py",
   "mimetype": "text/x-python",
   "name": "python",
   "nbconvert_exporter": "python",
   "pygments_lexer": "ipython3",
   "version": "3.7.3"
  }
 },
 "nbformat": 4,
 "nbformat_minor": 2
}
