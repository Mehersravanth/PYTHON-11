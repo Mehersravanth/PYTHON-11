{
 "cells": [
  {
   "cell_type": "code",
   "execution_count": 3,
   "metadata": {},
   "outputs": [
    {
     "name": "stdout",
     "output_type": "stream",
     "text": [
      "enter number 1 20\n",
      "enter number 2 50\n",
      "enter number 3 33\n",
      "50 is large number \n"
     ]
    }
   ],
   "source": [
    "# FIND LARGE NUMBER FROM 3 NUMBERS\n",
    "a1 = int(input(\"enter number 1 \"))\n",
    "a2 = int(input(\"enter number 2 \"))\n",
    "a3 = int(input(\"enter number 3 \"))\n",
    "\n",
    "if a1>a2 and a1>a3:\n",
    "    print(a1, \"is large number \")\n",
    "elif a2>a1 and a2>a3:\n",
    "     print(a2, \"is large number \")\n",
    "else:\n",
    "    print(a3, \"is large number \")"
   ]
  },
  {
   "cell_type": "code",
   "execution_count": 7,
   "metadata": {},
   "outputs": [
    {
     "name": "stdout",
     "output_type": "stream",
     "text": [
      "enter year2000\n",
      "2000 is a leap year \n"
     ]
    }
   ],
   "source": [
    "# CHECK IF A YEAR IS LEAP YEAR OR NOT\n",
    "a = int(input(\"enter year\"))\n",
    "if a%4==0:\n",
    "    print(a, \"is a leap year \")\n",
    "else:\n",
    "        print(a, \"is not a leap year \")"
   ]
  },
  {
   "cell_type": "markdown",
   "metadata": {},
   "source": [
    "### ITERATION STATEMENTS\n",
    "* while\n",
    "* for\n",
    "\n",
    "  SYNTAX:\n",
    "        while boolean_condition:\n",
    "        statements\n",
    "        increment/decrement"
   ]
  },
  {
   "cell_type": "code",
   "execution_count": 8,
   "metadata": {},
   "outputs": [
    {
     "name": "stdout",
     "output_type": "stream",
     "text": [
      "Gitam\n",
      "Gitam\n",
      "Gitam\n",
      "Gitam\n",
      "Gitam\n"
     ]
    }
   ],
   "source": [
    "# Need print \"Gitam\" for 5 times\n",
    "print(\"Gitam\")\n",
    "print(\"Gitam\")\n",
    "print(\"Gitam\")\n",
    "print(\"Gitam\")\n",
    "print(\"Gitam\")"
   ]
  },
  {
   "cell_type": "code",
   "execution_count": 9,
   "metadata": {},
   "outputs": [
    {
     "name": "stdout",
     "output_type": "stream",
     "text": [
      "GITAM\n",
      "GITAM\n",
      "GITAM\n",
      "GITAM\n",
      "GITAM\n"
     ]
    }
   ],
   "source": [
    "x = 0\n",
    "while x < 5 :\n",
    "    print(\"GITAM\")\n",
    "    x = x + 1"
   ]
  },
  {
   "cell_type": "code",
   "execution_count": 1,
   "metadata": {},
   "outputs": [
    {
     "name": "stdout",
     "output_type": "stream",
     "text": [
      "enter a number10\n",
      "1 2 3 4 5 6 7 8 9 10 "
     ]
    }
   ],
   "source": [
    "# print N natural numbers using while loop\n",
    "# input - 10\n",
    "# output - 1 2 3 . . . . 10\n",
    "n = int(input(\"enter a number\"))\n",
    "i = 1\n",
    "while i <= n :\n",
    "    print(i,end =\" \")\n",
    "    i = i + 1"
   ]
  },
  {
   "cell_type": "code",
   "execution_count": 4,
   "metadata": {},
   "outputs": [
    {
     "name": "stdout",
     "output_type": "stream",
     "text": [
      "enter a number10\n",
      "30\n"
     ]
    }
   ],
   "source": [
    "# read a number - - n\n",
    "# add only even numbers between 1 to n\n",
    "# input - - 10\n",
    "# output - - 30(2+4+6+8+10)\n",
    "n = int(input('enter a number'))\n",
    "i = 1\n",
    "sum = 0\n",
    "while i <= n:\n",
    "    if  i% 2 == 0:\n",
    "         sum = sum + i\n",
    "    i = i + 1\n",
    "print(sum)\n",
    "    "
   ]
  },
  {
   "cell_type": "code",
   "execution_count": 6,
   "metadata": {},
   "outputs": [
    {
     "name": "stdout",
     "output_type": "stream",
     "text": [
      "enter a number456\n",
      "6 5 4 "
     ]
    }
   ],
   "source": [
    "# REVERSE ORDER\n",
    "# number as a number - - 123\n",
    "# print the digits of given number : 3 2 1\n",
    "n = int(input('enter a number'))\n",
    "while n !=0:\n",
    "    r = n % 10\n",
    "    print(r,end = \" \")\n",
    "    n = n // 10"
   ]
  },
  {
   "cell_type": "markdown",
   "metadata": {},
   "source": [
    "# FUNCTIONAL PROGRAMMING\n",
    "* Simple\n",
    "* Easy read\n",
    "* lengthy program divides into sub programs"
   ]
  },
  {
   "cell_type": "markdown",
   "metadata": {},
   "source": [
    "def nameofthefunction(<parameters>) :\n",
    "    statement\n",
    "    return"
   ]
  },
  {
   "cell_type": "code",
   "execution_count": 21,
   "metadata": {},
   "outputs": [
    {
     "name": "stdout",
     "output_type": "stream",
     "text": [
      "6\n"
     ]
    }
   ],
   "source": [
    "# read  a number - - 1234\n",
    "# output  -- 6(2+4)\n",
    "def addevendigits(n):\n",
    "    sum = 0\n",
    "    while n!= 0:\n",
    "        r = n % 10\n",
    "        if r % 2 == 0:\n",
    "            sum = sum +r\n",
    "        n = n // 10\n",
    "    print(sum)\n",
    "addevendigits(1234)\n",
    "    \n"
   ]
  },
  {
   "cell_type": "code",
   "execution_count": 1,
   "metadata": {},
   "outputs": [
    {
     "data": {
      "text/plain": [
       "9"
      ]
     },
     "execution_count": 1,
     "metadata": {},
     "output_type": "execute_result"
    }
   ],
   "source": [
    "# read a number -- 19528\n",
    "# print the large digit print the number\n",
    "def printlarge(n):\n",
    "    large = 0\n",
    "    while n != 0:\n",
    "        r = n % 10\n",
    "        if large < r:\n",
    "            large = r\n",
    "        n = n // 10 \n",
    "    return large\n",
    "printlarge(19528)"
   ]
  },
  {
   "cell_type": "code",
   "execution_count": null,
   "metadata": {},
   "outputs": [],
   "source": [
    "# read a number input\n",
    "# output reverse of given number\n",
    "# 123 -- 321\n",
    "def reversenumber(n):\n",
    "    rev = 0\n",
    "    while n != 0:\n",
    "        r = n % 10\n",
    "        rev = rev * 10 + r\n",
    "        n = n // 10\n",
    "    return rev\n",
    "reversenumber(-123)"
   ]
  },
  {
   "cell_type": "code",
   "execution_count": 2,
   "metadata": {},
   "outputs": [
    {
     "data": {
      "text/plain": [
       "321"
      ]
     },
     "execution_count": 2,
     "metadata": {},
     "output_type": "execute_result"
    }
   ],
   "source": [
    "# read a number input\n",
    "# output reverse of given number\n",
    "# 123 -- 321\n",
    "def reversenumber(n):\n",
    "    rev = 0\n",
    "    while n != 0:\n",
    "        r = n % 10\n",
    "        rev = rev * 10 + r\n",
    "        n = n // 10\n",
    "    return rev\n",
    "reversenumber(123)"
   ]
  },
  {
   "cell_type": "code",
   "execution_count": 7,
   "metadata": {},
   "outputs": [
    {
     "name": "stdout",
     "output_type": "stream",
     "text": [
      "no\n",
      "yes\n"
     ]
    }
   ],
   "source": [
    "# PALINDROME\n",
    "def ispalindrome(n):\n",
    "    rev  = 0\n",
    "    buffer = n\n",
    "    while n != 0:\n",
    "        r = n % 10\n",
    "        rev = rev * 10 + r\n",
    "        n = n // 10\n",
    "    if buffer == rev:\n",
    "        return \"yes\"\n",
    "    else:\n",
    "        return \"no\"\n",
    "print(ispalindrome(123))\n",
    "print(ispalindrome(121))"
   ]
  },
  {
   "cell_type": "markdown",
   "metadata": {},
   "source": [
    "# FOR LOOP"
   ]
  },
  {
   "cell_type": "code",
   "execution_count": 9,
   "metadata": {},
   "outputs": [
    {
     "name": "stdout",
     "output_type": "stream",
     "text": [
      "1 2 3 4 5 6 7 8 9 10 "
     ]
    }
   ],
   "source": [
    "def printnnaturalnumbers(n):\n",
    "    for x in range(1,n+1):\n",
    "        print(x,end=\" \")\n",
    "    return\n",
    "printnnaturalnumbers(10)"
   ]
  },
  {
   "cell_type": "code",
   "execution_count": 11,
   "metadata": {},
   "outputs": [
    {
     "name": "stdout",
     "output_type": "stream",
     "text": [
      "11 12 13 14 15 16 17 18 19 20 21 22 23 24 25 "
     ]
    }
   ],
   "source": [
    "# function to print 2 numbers between 2 limits\n",
    "# input : 11,25\n",
    "# output : 11 12 13 ..........25\n",
    "def printseries(lb,ub):\n",
    "    for x in range(lb,ub+1):\n",
    "        print(x,end=\" \")\n",
    "    return\n",
    "printseries(11,25)"
   ]
  },
  {
   "cell_type": "code",
   "execution_count": 13,
   "metadata": {},
   "outputs": [
    {
     "name": "stdout",
     "output_type": "stream",
     "text": [
      "10 9 8 7 6 5 4 3 2 1 "
     ]
    }
   ],
   "source": [
    "# REVERSE RANGE\n",
    "def reverserange(start,end):\n",
    "    for x in range(end,start-1,-1):\n",
    "        print(x,end =\" \")\n",
    "    return\n",
    "reverserange(1,10)"
   ]
  },
  {
   "cell_type": "code",
   "execution_count": null,
   "metadata": {},
   "outputs": [],
   "source": []
  }
 ],
 "metadata": {
  "kernelspec": {
   "display_name": "Python 3",
   "language": "python",
   "name": "python3"
  },
  "language_info": {
   "codemirror_mode": {
    "name": "ipython",
    "version": 3
   },
   "file_extension": ".py",
   "mimetype": "text/x-python",
   "name": "python",
   "nbconvert_exporter": "python",
   "pygments_lexer": "ipython3",
   "version": "3.7.3"
  }
 },
 "nbformat": 4,
 "nbformat_minor": 2
}
